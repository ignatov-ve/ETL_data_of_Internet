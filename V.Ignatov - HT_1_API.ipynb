{
 "cells": [
  {
   "cell_type": "markdown",
   "metadata": {},
   "source": [
    "### Задание 1"
   ]
  },
  {
   "cell_type": "code",
   "execution_count": 2,
   "metadata": {},
   "outputs": [],
   "source": [
    "from pprint import pprint\n",
    "import requests\n",
    "import json"
   ]
  },
  {
   "cell_type": "code",
   "execution_count": 3,
   "metadata": {},
   "outputs": [
    {
     "name": "stdout",
     "output_type": "stream",
     "text": [
      "Введите имя пользователя: ignatov-ve\n",
      "У пользователя ignatov-ve количество открытых репозитеориев на GitHUB равно 5. Названия репозитеориев: \n",
      "1. ignatov-ve/Data-Science-Numpy-Matplotlib-Scikit-learn\n",
      "2. ignatov-ve/hello\n",
      "3. ignatov-ve/HomeTask2\n",
      "4. ignatov-ve/Numpy-Matplotlib-Scikit-learn\n",
      "5. ignatov-ve/StartPython\n"
     ]
    }
   ],
   "source": [
    "main_link = 'https://api.github.com/users/username/repos'\n",
    "\n",
    "user_name = input('Введите имя пользователя: ')\n",
    "\n",
    "response = requests.get(f'https://api.github.com/users/{user_name}/repos')\n",
    "\n",
    "data = response.json()\n",
    "\n",
    "print(f'У пользователя {user_name} количество открытых репозитеориев на GitHUB равно {len(data)}. Названия репозитеориев: ')\n",
    "for i in range(len(data)):\n",
    "    print(f\"{i+1}. {data[i].get('full_name')}\")"
   ]
  },
  {
   "cell_type": "markdown",
   "metadata": {},
   "source": [
    "### Задание 2"
   ]
  },
  {
   "cell_type": "markdown",
   "metadata": {},
   "source": [
    "#### Получение количества непрочитанных сообщений на mail.ru"
   ]
  },
  {
   "cell_type": "code",
   "execution_count": null,
   "metadata": {},
   "outputs": [],
   "source": [
    "main_link2 = 'http://www.appsmail.ru/platform/api'\n",
    "params = {'method':mail.getUnreadCount,\n",
    "          'app_id':123456,\n",
    "         'session_key': ,\n",
    "         'sig': }"
   ]
  },
  {
   "cell_type": "code",
   "execution_count": 7,
   "metadata": {},
   "outputs": [],
   "source": []
  },
  {
   "cell_type": "code",
   "execution_count": null,
   "metadata": {},
   "outputs": [],
   "source": []
  }
 ],
 "metadata": {
  "kernelspec": {
   "display_name": "Python 3",
   "language": "python",
   "name": "python3"
  },
  "language_info": {
   "codemirror_mode": {
    "name": "ipython",
    "version": 3
   },
   "file_extension": ".py",
   "mimetype": "text/x-python",
   "name": "python",
   "nbconvert_exporter": "python",
   "pygments_lexer": "ipython3",
   "version": "3.7.4"
  }
 },
 "nbformat": 4,
 "nbformat_minor": 2
}
